{
 "cells": [
  {
   "cell_type": "code",
   "execution_count": 1,
   "metadata": {},
   "outputs": [],
   "source": [
    "import time\n",
    "\n",
    "import pandas as pd\n",
    "from bs4 import BeautifulSoup\n",
    "from selenium import webdriver\n",
    "from selenium.webdriver.common.by import By"
   ]
  },
  {
   "cell_type": "code",
   "execution_count": 2,
   "metadata": {},
   "outputs": [],
   "source": [
    "driver = webdriver.Chrome()  # Mac用の記述\n",
    "driver.implicitly_wait(10)"
   ]
  },
  {
   "cell_type": "code",
   "execution_count": 3,
   "metadata": {},
   "outputs": [],
   "source": [
    "# 動作確認用のデータフレームを作成\n",
    "df_for_export = pd.DataFrame(\n",
    "    data={\n",
    "        \"コード\": [\n",
    "            \"1434\",\n",
    "            \"1518\",\n",
    "            \"1775\",\n",
    "            \"9603\",\n",
    "        ],\n",
    "        \"1株配当\": [None, None, None, None]\n",
    "    }\n",
    ")\n",
    "dtypes = {\n",
    "    \"コード\": \"object\",\n",
    "    \"1株配当\": \"float\"\n",
    "}\n",
    "df_for_export = df_for_export.astype(dtypes)"
   ]
  },
  {
   "cell_type": "code",
   "execution_count": 12,
   "metadata": {},
   "outputs": [
    {
     "name": "stdout",
     "output_type": "stream",
     "text": [
      "16.0\n",
      "320.0\n",
      "160.0\n",
      "9603 skipped\n"
     ]
    }
   ],
   "source": [
    "# 各銘柄のみんかぶの配当ページから1株配当金を取得する\n",
    "\n",
    "for stock_code in df_for_export['コード']:\n",
    "\t# 配当ページへアクセス\n",
    "\turl_dividend = f\"https://minkabu.jp/stock/{stock_code}/dividend\"\n",
    "\tdriver.get(url_dividend)\n",
    "\ttime.sleep(2)\n",
    "\t# 予想配当金がないものは以降の処理を行わない\n",
    "\tlist_element = driver.find_elements(By.CLASS_NAME, \"dividend-state__amount__integer\")\n",
    "\tif list_element == []:\n",
    "\t\tprint(f\"{stock_code} skipped\")\n",
    "\t\tcontinue\n",
    "\t# ページのhtmlを取得してパースする\n",
    "\thtml = driver.page_source.encode(\"utf-8\")\n",
    "\tparsed_html = BeautifulSoup(html, \"html.parser\")\n",
    "\t# 1株配当金を取得する\n",
    "\tdividend_integer = parsed_html.find_all(class_=\"dividend-state__amount__integer\")[0].get_text().strip() # 整数部分＋小数点\n",
    "\tdividend_decimal = parsed_html.find_all(class_=\"dividend-state__amount__decimal\")[0].get_text().strip() # 小数部分\n",
    "\tdividend = dividend_integer + dividend_decimal\n",
    "\tprint(float(dividend))\n"
   ]
  },
  {
   "cell_type": "code",
   "execution_count": 5,
   "metadata": {},
   "outputs": [
    {
     "name": "stdout",
     "output_type": "stream",
     "text": [
      "aaabbb\n"
     ]
    }
   ],
   "source": []
  },
  {
   "cell_type": "code",
   "execution_count": null,
   "metadata": {},
   "outputs": [],
   "source": []
  }
 ],
 "metadata": {
  "kernelspec": {
   "display_name": "Python 3 (ipykernel)",
   "language": "python",
   "name": "python3"
  },
  "language_info": {
   "codemirror_mode": {
    "name": "ipython",
    "version": 3
   },
   "file_extension": ".py",
   "mimetype": "text/x-python",
   "name": "python",
   "nbconvert_exporter": "python",
   "pygments_lexer": "ipython3",
   "version": "3.9.0"
  },
  "orig_nbformat": 4
 },
 "nbformat": 4,
 "nbformat_minor": 2
}
