{
 "cells": [
  {
   "cell_type": "code",
   "execution_count": 1,
   "metadata": {},
   "outputs": [],
   "source": [
    "import time\n",
    "\n",
    "import pandas as pd\n",
    "from bs4 import BeautifulSoup\n",
    "from selenium import webdriver\n",
    "from selenium.webdriver.common.by import By\n"
   ]
  },
  {
   "cell_type": "code",
   "execution_count": 2,
   "metadata": {},
   "outputs": [],
   "source": [
    "driver = webdriver.Chrome()  # Mac用の記述\n",
    "driver.implicitly_wait(10)\n"
   ]
  },
  {
   "cell_type": "code",
   "execution_count": 12,
   "metadata": {},
   "outputs": [],
   "source": [
    "# 動作確認用のデータフレームを作成\n",
    "df_for_export = pd.DataFrame(\n",
    "    data={\n",
    "        \"コード\": [\n",
    "            \"1434\",\n",
    "            \"1518\",\n",
    "            \"1775\",\n",
    "            \"9603\",\n",
    "        ],\n",
    "        \"1株配当\": [None, None, None, None],\n",
    "    }\n",
    ")\n",
    "dtypes = {\"コード\": \"object\", \"1株配当\": \"float\"}\n",
    "df_for_export = df_for_export.astype(dtypes)\n"
   ]
  },
  {
   "cell_type": "code",
   "execution_count": null,
   "metadata": {},
   "outputs": [],
   "source": [
    "# 各銘柄のみんかぶの配当ページから1株配当金を取得する\n",
    "\n",
    "for i, stock_code in enumerate(df_for_export[\"コード\"]):\n",
    "    # 配当ページへアクセス\n",
    "    url_dividend = f\"https://minkabu.jp/stock/{stock_code}/dividend\"\n",
    "    driver.get(url_dividend)\n",
    "    time.sleep(2)\n",
    "    # 予想配当金がないものは0円として処理する\n",
    "    list_element = driver.find_elements(\n",
    "        By.CLASS_NAME, \"dividend-state__amount__integer\"\n",
    "    )\n",
    "    if list_element == []:\n",
    "        df_for_export.loc[i, \"1株配当\"] = 0\n",
    "        print(f\"{stock_code} skipped\")\n",
    "        continue\n",
    "    # ページのhtmlを取得してパースする\n",
    "    html = driver.page_source.encode(\"utf-8\")\n",
    "    parsed_html = BeautifulSoup(html, \"html.parser\")\n",
    "    # 1株配当金を取得する\n",
    "    dividend_integer = (\n",
    "        parsed_html.find_all(class_=\"dividend-state__amount__integer\")[0]\n",
    "        .get_text()\n",
    "        .strip()\n",
    "    )  # 整数部分＋小数点\n",
    "    dividend_decimal = (\n",
    "        parsed_html.find_all(class_=\"dividend-state__amount__decimal\")[0]\n",
    "        .get_text()\n",
    "        .strip()\n",
    "    )  # 小数部分\n",
    "    dividend = float(dividend_integer + dividend_decimal)\n",
    "    df_for_export.loc[i, \"1株配当\"] = dividend\n"
   ]
  }
 ],
 "metadata": {
  "kernelspec": {
   "display_name": "Python 3 (ipykernel)",
   "language": "python",
   "name": "python3"
  },
  "language_info": {
   "codemirror_mode": {
    "name": "ipython",
    "version": 3
   },
   "file_extension": ".py",
   "mimetype": "text/x-python",
   "name": "python",
   "nbconvert_exporter": "python",
   "pygments_lexer": "ipython3",
   "version": "3.9.0"
  },
  "orig_nbformat": 4
 },
 "nbformat": 4,
 "nbformat_minor": 2
}
