{
 "cells": [
  {
   "cell_type": "code",
   "execution_count": 1,
   "id": "1032e656-be3d-4074-865e-8237af0ce4d6",
   "metadata": {
    "tags": []
   },
   "outputs": [],
   "source": [
    "import time\n",
    "\n",
    "from selenium import webdriver\n",
    "from selenium.webdriver.chrome.service import Service as ChromeService\n",
    "from webdriver_manager.chrome import ChromeDriverManager\n",
    "from sbi_scraping import get_own_stock_df\n",
    "from minkabu_scraping import append_dividend\n",
    "from tse_stock_list_downloader import append_market_and_industries\n",
    "\n",
    "import config\n",
    "\n",
    "import pandas as pd\n",
    "import gspread\n",
    "import json\n",
    "from oauth2client.service_account import ServiceAccountCredentials"
   ]
  },
  {
   "cell_type": "code",
   "execution_count": 2,
   "id": "2630bc3e",
   "metadata": {
    "tags": []
   },
   "outputs": [],
   "source": [
    "# 通常のドライバ\n",
    "driver = webdriver.Chrome(\n",
    "    service=ChromeService(ChromeDriverManager().install())\n",
    ")"
   ]
  },
  {
   "cell_type": "code",
   "execution_count": null,
   "id": "ce0a3ee1",
   "metadata": {
    "tags": []
   },
   "outputs": [],
   "source": [
    "try:\n",
    "    # 証券会社のwebサイトから保有株情報を抽出する\n",
    "    df_own_stock = get_own_stock_df(driver)\n",
    "except Exception as e:\n",
    "    print(\"Failed get_own_stock_df\")\n",
    "    print(str(e))\n",
    "finally:\n",
    "    driver.quit()"
   ]
  },
  {
   "cell_type": "code",
   "execution_count": null,
   "id": "2844117d",
   "metadata": {
    "tags": []
   },
   "outputs": [],
   "source": [
    "try:\n",
    "    # 配当金額を抽出する（処理に時間がかかる）\n",
    "    df_own_stock = append_dividend(df_own_stock)\n",
    "    # このあとでエラーになった場合途中から再開できるよう、CSVに吐き出しておく\n",
    "    df_own_stock.to_csv(\"own_stock.csv\")\n",
    "except Exception as e:\n",
    "    print(\"Failed get_own_stock_df\")\n",
    "    print(str(e))"
   ]
  },
  {
   "cell_type": "code",
   "execution_count": 23,
   "id": "e77b8073-ec99-446f-9b82-ddc6cdb172eb",
   "metadata": {
    "tags": []
   },
   "outputs": [],
   "source": [
    "# 吐き出しておいたCSVを読み込む\n",
    "df_own_stock = pd.read_csv(\"own_stock.csv\", index_col=0)"
   ]
  },
  {
   "cell_type": "code",
   "execution_count": 25,
   "id": "e583416c-7763-49a0-a918-2953d0a209c0",
   "metadata": {
    "tags": []
   },
   "outputs": [],
   "source": [
    "# データフレームに市場と業種を入れる\n",
    "df_own_stock = append_market_and_industries(df_own_stock)\n",
    "\n",
    "# スプレッドシートに書き込めるようにリスト形式に変換する\n",
    "list_own_stock = df_own_stock.values.tolist()"
   ]
  },
  {
   "cell_type": "code",
   "execution_count": 16,
   "id": "d9144bf9-1ce5-44bb-88a5-77e716720306",
   "metadata": {
    "tags": []
   },
   "outputs": [],
   "source": [
    "# 2つのAPIを記述しないとリフレッシュトークンを3600秒毎に発行し続けなければならない\n",
    "scope = [\n",
    "    \"https://spreadsheets.google.com/feeds\",\n",
    "    \"https://www.googleapis.com/auth/drive\",\n",
    "]\n",
    "\n",
    "# 認証情報設定\n",
    "credentials = ServiceAccountCredentials.from_json_keyfile_name(\n",
    "    \"keys/credentials.json\", scope\n",
    ")"
   ]
  },
  {
   "cell_type": "code",
   "execution_count": 17,
   "id": "ba7f678c-65e6-4385-bc22-23f9fe4fb71a",
   "metadata": {
    "tags": []
   },
   "outputs": [],
   "source": [
    "# OAuth2の資格情報を使用してGoogle APIにログイン\n",
    "gc = gspread.authorize(credentials)"
   ]
  },
  {
   "cell_type": "code",
   "execution_count": 18,
   "id": "dda577a6-8e20-4154-9df5-c68dd10d9696",
   "metadata": {
    "tags": []
   },
   "outputs": [],
   "source": [
    "# 共有設定したスプレッドシートを開く\n",
    "spreadsheet = gc.open_by_key(config.SPREADSHEET_KEY)"
   ]
  },
  {
   "cell_type": "code",
   "execution_count": 19,
   "id": "bda40b1c-3a89-4a5f-b6ff-bb3abfed5605",
   "metadata": {
    "tags": []
   },
   "outputs": [],
   "source": [
    "# シート名を指定してシートを開く\n",
    "worksheet = spreadsheet.worksheet(\"②高配当株ポートフォリオ\")"
   ]
  },
  {
   "cell_type": "code",
   "execution_count": null,
   "id": "e17e8555-61b2-4968-849f-c03761647638",
   "metadata": {
    "tags": []
   },
   "outputs": [],
   "source": [
    "# シートの既存の値をクリアする（B列からJ列だけ上書きするため）\n",
    "worksheet.batch_clear([\"B4:I300\"])"
   ]
  },
  {
   "cell_type": "code",
   "execution_count": null,
   "id": "d462ec2b-0c6e-4a91-b6ad-638956b8215f",
   "metadata": {
    "tags": []
   },
   "outputs": [],
   "source": [
    "# シートのB4:J4からデータフレームの値を書き込む\n",
    "cell_range = f\"B4:I{3 + len(list_own_stock)}\"\n",
    "worksheet.update(cell_range, list_own_stock)"
   ]
  }
 ],
 "metadata": {
  "kernelspec": {
   "display_name": "Python 3 (ipykernel)",
   "language": "python",
   "name": "python3"
  },
  "language_info": {
   "codemirror_mode": {
    "name": "ipython",
    "version": 3
   },
   "file_extension": ".py",
   "mimetype": "text/x-python",
   "name": "python",
   "nbconvert_exporter": "python",
   "pygments_lexer": "ipython3",
   "version": "3.9.0"
  }
 },
 "nbformat": 4,
 "nbformat_minor": 5
}
