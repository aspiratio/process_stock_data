{
 "cells": [
  {
   "cell_type": "code",
   "execution_count": 28,
   "id": "1032e656-be3d-4074-865e-8237af0ce4d6",
   "metadata": {
    "tags": []
   },
   "outputs": [],
   "source": [
    "import time\n",
    "\n",
    "from selenium import webdriver\n",
    "from selenium.webdriver.chrome.service import Service as ChromeService\n",
    "from webdriver_manager.chrome import ChromeDriverManager\n",
    "from sbi_scraping import get_own_stock_df\n",
    "from minkabu_scraping import append_dividend\n",
    "\n",
    "import config\n"
   ]
  },
  {
   "cell_type": "code",
   "execution_count": 8,
   "id": "2630bc3e",
   "metadata": {
    "tags": []
   },
   "outputs": [],
   "source": [
    "driver = webdriver.Chrome(\n",
    "    service=ChromeService(ChromeDriverManager().install())\n",
    ")  # Mac用の記述\n",
    "driver.implicitly_wait(10)"
   ]
  },
  {
   "cell_type": "code",
   "execution_count": 25,
   "id": "ce0a3ee1",
   "metadata": {
    "tags": []
   },
   "outputs": [],
   "source": [
    "# 証券会社のwebサイトから保有株情報を抽出する\n",
    "df_own_stock = get_own_stock_df(driver)"
   ]
  },
  {
   "cell_type": "code",
   "execution_count": 29,
   "id": "2844117d",
   "metadata": {
    "tags": []
   },
   "outputs": [],
   "source": [
    "# 配当金額を抽出する\n",
    "df_own_stock = append_dividend(driver, df_own_stock)"
   ]
  }
 ],
 "metadata": {
  "kernelspec": {
   "display_name": "Python 3 (ipykernel)",
   "language": "python",
   "name": "python3"
  },
  "language_info": {
   "codemirror_mode": {
    "name": "ipython",
    "version": 3
   },
   "file_extension": ".py",
   "mimetype": "text/x-python",
   "name": "python",
   "nbconvert_exporter": "python",
   "pygments_lexer": "ipython3",
   "version": "3.9.0"
  }
 },
 "nbformat": 4,
 "nbformat_minor": 5
}
