{
 "cells": [
  {
   "cell_type": "code",
   "execution_count": 1,
   "id": "1032e656-be3d-4074-865e-8237af0ce4d6",
   "metadata": {
    "tags": []
   },
   "outputs": [],
   "source": [
    "import time\n",
    "\n",
    "from selenium import webdriver\n",
    "from selenium.webdriver.chrome.service import Service as ChromeService\n",
    "from webdriver_manager.chrome import ChromeDriverManager\n",
    "from sbi_scraping import get_own_stock_df\n",
    "from minkabu_scraping import append_dividend\n",
    "from tse_stock_list_downloader import append_market_and_industries\n",
    "\n",
    "import config\n",
    "\n",
    "import pandas as pd\n",
    "import gspread\n",
    "import json\n",
    "from oauth2client.service_account import ServiceAccountCredentials"
   ]
  },
  {
   "cell_type": "code",
   "execution_count": 2,
   "id": "2630bc3e",
   "metadata": {
    "tags": []
   },
   "outputs": [],
   "source": [
    "# 通常のドライバ\n",
    "driver = webdriver.Chrome(\n",
    "    service=ChromeService(ChromeDriverManager().install())\n",
    ")"
   ]
  },
  {
   "cell_type": "code",
   "execution_count": 3,
   "id": "ce0a3ee1",
   "metadata": {
    "tags": []
   },
   "outputs": [
    {
     "name": "stdout",
     "output_type": "stream",
     "text": [
      "SBI scraping started...\n",
      "Minkabu scraping finished\n"
     ]
    }
   ],
   "source": [
    "try:\n",
    "    # 証券会社のwebサイトから保有株情報を抽出する\n",
    "    df_own_stock = get_own_stock_df(driver)\n",
    "except:\n",
    "    print(\"Failed get_own_stock_df\")\n",
    "finally:\n",
    "    driver.quit()"
   ]
  },
  {
   "cell_type": "code",
   "execution_count": 6,
   "id": "2844117d",
   "metadata": {
    "tags": []
   },
   "outputs": [
    {
     "name": "stdout",
     "output_type": "stream",
     "text": [
      "Minkabu scraping started...\n",
      "1434 start1518 start\n",
      "\n",
      "1775 start\n",
      "1820 start\n",
      "1835 start\n",
      "1925 start\n",
      "1928 start\n",
      "1951 start\n",
      "2124 start\n",
      "2127 start\n",
      "2169 start\n",
      "2317 start\n",
      "1434 finish\n",
      "2353 start\n",
      "1835 finish\n",
      "2395 start\n",
      "2124 finish\n",
      "2914 start\n",
      "1820 finish\n",
      "2927 start\n",
      "1951 finish\n",
      "3003 start\n",
      "2317 finish\n",
      "3101 start\n",
      "1518 skipped\n",
      "3179 start\n",
      "1775 skipped\n",
      "3186 start\n",
      "1928 skipped\n",
      "3248 start\n",
      "2169 skipped\n",
      "3409 start\n",
      "1925 skipped\n",
      "3632 start\n",
      "2914 skipped\n",
      "3817 start\n",
      "2127 skipped\n",
      "3847 start\n",
      "2353 skipped\n",
      "4008 start\n",
      "2395 skipped\n",
      "4042 start\n",
      "3101 skipped\n",
      "4044 start\n",
      "3179 skipped\n",
      "4064 start\n",
      "2927 skipped\n",
      "4182 start\n",
      "3003 skipped\n",
      "4361 start\n",
      "3186 skipped\n",
      "4452 start\n",
      "3409 skipped\n",
      "4502 start\n",
      "3632 skipped\n",
      "4641 start\n",
      "3248 skipped\n",
      "5101 start\n",
      "4044 skipped\n",
      "5184 start\n",
      "5201 start\n",
      "5406 start\n",
      "3817 skipped\n",
      "5803 start\n",
      "4452 skipped\n",
      "6073 start\n",
      "5184 skipped\n",
      "6087 start\n",
      "6073 finish\n",
      "6113 start\n",
      "3847 skipped\n",
      "6167 start\n",
      "4008 skipped\n",
      "6291 start\n",
      "4182 skipped\n",
      "6643 start\n",
      "6856 start\n",
      "4641 skipped\n",
      "7186 start\n",
      "6291 finish\n",
      "7224 start\n",
      "5803 skipped\n",
      "7226 start\n",
      "6167 finish\n",
      "7267 start\n",
      "7186 finish\n",
      "7272 start\n",
      "4064 skipped\n",
      "7512 start\n",
      "7272 finish\n",
      "7844 start\n",
      "7874 start\n",
      "5406 skipped\n",
      "7995 start\n",
      "8001 start\n",
      "4502 skipped\n",
      "8584 start\n",
      "7995 finish\n",
      "8591 start\n",
      "7224 skipped\n",
      "8593 start\n",
      "8001 finish\n",
      "8766 start\n",
      "6113 skipped\n",
      "9069 start\n",
      "5201 skipped\n",
      "9142 start\n",
      "6087 skipped\n",
      "9303 start\n",
      "9432 start\n",
      "9433 start\n",
      "7267 skipped\n",
      "9436 start\n",
      "7874 skipped\n",
      "9600 start\n",
      "6643 skipped\n",
      "9603 start\n",
      "7226 skipped\n",
      "9698 start\n",
      "9769 start\n",
      "8766 skipped\n",
      "9831 start\n",
      "9880 start\n",
      "9142 skipped\n",
      "9986 start\n",
      "9303 skipped\n",
      "7844 skipped\n",
      "9432 skipped\n",
      "9600 skipped\n",
      "9831 skipped\n",
      "8584 skipped\n",
      "9069 skipped\n",
      "9433 skipped\n",
      "9698 finish\n",
      "9986 finish\n",
      "Failed get_own_stock_df\n"
     ]
    }
   ],
   "source": [
    "try:\n",
    "    # 配当金額を抽出する（処理に時間がかかる）\n",
    "    df_own_stock = append_dividend(df_own_stock)\n",
    "    # このあとでエラーになった場合途中から再開できるよう、CSVに吐き出しておく\n",
    "    df_own_stock.to_csv(\"own_stock.csv\")\n",
    "except:\n",
    "    print(\"Failed get_own_stock_df\")"
   ]
  },
  {
   "cell_type": "code",
   "execution_count": 7,
   "id": "e77b8073-ec99-446f-9b82-ddc6cdb172eb",
   "metadata": {
    "tags": []
   },
   "outputs": [],
   "source": [
    "# 吐き出しておいたCSVを読み込む\n",
    "df_own_stock = pd.read_csv(\"own_stock.csv\")"
   ]
  },
  {
   "cell_type": "code",
   "execution_count": null,
   "id": "e583416c-7763-49a0-a918-2953d0a209c0",
   "metadata": {
    "tags": []
   },
   "outputs": [],
   "source": [
    "# データフレームに市場と業種を入れる\n",
    "df_own_stock = append_market_and_industries(df_own_stock)\n",
    "\n",
    "# スプレッドシートに書き込めるようにリスト形式に変換する\n",
    "list_own_stock = df_own_stock.values.tolist()"
   ]
  },
  {
   "cell_type": "code",
   "execution_count": null,
   "id": "d9144bf9-1ce5-44bb-88a5-77e716720306",
   "metadata": {
    "tags": []
   },
   "outputs": [],
   "source": [
    "# 2つのAPIを記述しないとリフレッシュトークンを3600秒毎に発行し続けなければならない\n",
    "scope = [\n",
    "    \"https://spreadsheets.google.com/feeds\",\n",
    "    \"https://www.googleapis.com/auth/drive\",\n",
    "]\n",
    "\n",
    "# 認証情報設定\n",
    "credentials = ServiceAccountCredentials.from_json_keyfile_name(\n",
    "    \"keys/credentials.json\", scope\n",
    ")"
   ]
  },
  {
   "cell_type": "code",
   "execution_count": null,
   "id": "ba7f678c-65e6-4385-bc22-23f9fe4fb71a",
   "metadata": {
    "tags": []
   },
   "outputs": [],
   "source": [
    "# OAuth2の資格情報を使用してGoogle APIにログイン\n",
    "gc = gspread.authorize(credentials)"
   ]
  },
  {
   "cell_type": "code",
   "execution_count": null,
   "id": "dda577a6-8e20-4154-9df5-c68dd10d9696",
   "metadata": {
    "tags": []
   },
   "outputs": [],
   "source": [
    "# 共有設定したスプレッドシートを開く\n",
    "spreadsheet = gc.open_by_key(config.SPREADSHEET_KEY)"
   ]
  },
  {
   "cell_type": "code",
   "execution_count": null,
   "id": "bda40b1c-3a89-4a5f-b6ff-bb3abfed5605",
   "metadata": {
    "tags": []
   },
   "outputs": [],
   "source": [
    "# シート名を指定してシートを開く\n",
    "worksheet = spreadsheet.worksheet(\"②高配当株ポートフォリオ\")"
   ]
  },
  {
   "cell_type": "code",
   "execution_count": null,
   "id": "e17e8555-61b2-4968-849f-c03761647638",
   "metadata": {
    "tags": []
   },
   "outputs": [],
   "source": [
    "# シートの既存の値をクリアする（B列からJ列だけ上書きするため）\n",
    "worksheet.batch_clear([\"B4:I300\"])"
   ]
  },
  {
   "cell_type": "code",
   "execution_count": null,
   "id": "d462ec2b-0c6e-4a91-b6ad-638956b8215f",
   "metadata": {
    "tags": []
   },
   "outputs": [],
   "source": [
    "# シートのB4:J4からデータフレームの値を書き込む\n",
    "cell_range = f\"B4:I{3 + len(list_own_stock)}\"\n",
    "worksheet.update(cell_range, list_own_stock)"
   ]
  }
 ],
 "metadata": {
  "kernelspec": {
   "display_name": "Python 3 (ipykernel)",
   "language": "python",
   "name": "python3"
  },
  "language_info": {
   "codemirror_mode": {
    "name": "ipython",
    "version": 3
   },
   "file_extension": ".py",
   "mimetype": "text/x-python",
   "name": "python",
   "nbconvert_exporter": "python",
   "pygments_lexer": "ipython3",
   "version": "3.9.0"
  }
 },
 "nbformat": 4,
 "nbformat_minor": 5
}
