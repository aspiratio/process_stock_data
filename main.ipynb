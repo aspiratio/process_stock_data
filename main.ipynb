{
 "cells": [
  {
   "cell_type": "code",
   "execution_count": 1,
   "id": "1032e656-be3d-4074-865e-8237af0ce4d6",
   "metadata": {
    "tags": []
   },
   "outputs": [],
   "source": [
    "import time\n",
    "import pandas as pd\n",
    "\n",
    "from selenium import webdriver\n",
    "from selenium.webdriver.chrome.service import Service as ChromeService\n",
    "from webdriver_manager.chrome import ChromeDriverManager\n",
    "from sbi_scraping import get_own_stock_df\n",
    "from minkabu_scraping import append_dividend\n",
    "from tse_stock_list_downloader import append_market_and_industries\n",
    "from spread_sheet_update import update_sheet"
   ]
  },
  {
   "cell_type": "code",
   "execution_count": 2,
   "id": "2630bc3e",
   "metadata": {
    "tags": []
   },
   "outputs": [],
   "source": [
    "# 通常のドライバ\n",
    "driver = webdriver.Chrome(\n",
    "    service=ChromeService(ChromeDriverManager().install())\n",
    ")"
   ]
  },
  {
   "cell_type": "code",
   "execution_count": null,
   "id": "ce0a3ee1",
   "metadata": {
    "tags": []
   },
   "outputs": [],
   "source": [
    "try:\n",
    "    # 証券会社のwebサイトから保有株情報を抽出する\n",
    "    df_own_stock = get_own_stock_df(driver)\n",
    "except Exception as e:\n",
    "    print(\"Failed get_own_stock_df\")\n",
    "    print(str(e))\n",
    "finally:\n",
    "    driver.quit()"
   ]
  },
  {
   "cell_type": "code",
   "execution_count": null,
   "id": "2844117d",
   "metadata": {
    "tags": []
   },
   "outputs": [],
   "source": [
    "try:\n",
    "    # 配当金額を抽出する（処理に時間がかかる）\n",
    "    df_own_stock = append_dividend(df_own_stock)\n",
    "    # このあとでエラーになった場合途中から再開できるよう、CSVに吐き出しておく\n",
    "    df_own_stock.to_csv(\"own_stock.csv\")\n",
    "except Exception as e:\n",
    "    print(\"Failed append_dividend\")\n",
    "    print(str(e))"
   ]
  },
  {
   "cell_type": "code",
   "execution_count": 5,
   "id": "e77b8073-ec99-446f-9b82-ddc6cdb172eb",
   "metadata": {
    "tags": []
   },
   "outputs": [],
   "source": [
    "try:\n",
    "    # 吐き出しておいたCSVを読み込む\n",
    "    df_own_stock = pd.read_csv(\"own_stock.csv\", index_col=0)\n",
    "except Exception as e:\n",
    "    print(\"Failed read_csv\")\n",
    "    print(str(e))"
   ]
  },
  {
   "cell_type": "code",
   "execution_count": 6,
   "id": "e583416c-7763-49a0-a918-2953d0a209c0",
   "metadata": {
    "tags": []
   },
   "outputs": [],
   "source": [
    "try:\n",
    "    # データフレームに市場と業種を入れる\n",
    "    df_own_stock = append_market_and_industries(df_own_stock)\n",
    "except Exception as e:\n",
    "    print(\"Failed append_market_and_industries\")\n",
    "    print(str(e))"
   ]
  },
  {
   "cell_type": "code",
   "execution_count": 7,
   "id": "d9144bf9-1ce5-44bb-88a5-77e716720306",
   "metadata": {
    "tags": []
   },
   "outputs": [],
   "source": [
    "try:\n",
    "    # 完成したデータフレームをスプレッドシートに書き込む\n",
    "    update_sheet(df_own_stock)\n",
    "except Exception as e:\n",
    "    print(\"Failed update_sheet\")\n",
    "    print(str(e))"
   ]
  }
 ],
 "metadata": {
  "kernelspec": {
   "display_name": "Python 3 (ipykernel)",
   "language": "python",
   "name": "python3"
  },
  "language_info": {
   "codemirror_mode": {
    "name": "ipython",
    "version": 3
   },
   "file_extension": ".py",
   "mimetype": "text/x-python",
   "name": "python",
   "nbconvert_exporter": "python",
   "pygments_lexer": "ipython3",
   "version": "3.9.0"
  }
 },
 "nbformat": 4,
 "nbformat_minor": 5
}
