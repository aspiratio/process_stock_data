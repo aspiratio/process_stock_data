{
 "cells": [
  {
   "cell_type": "code",
   "execution_count": 1,
   "id": "1032e656-be3d-4074-865e-8237af0ce4d6",
   "metadata": {
    "tags": []
   },
   "outputs": [],
   "source": [
    "import time\n",
    "\n",
    "from selenium import webdriver\n",
    "from selenium.webdriver.chrome.service import Service as ChromeService\n",
    "from webdriver_manager.chrome import ChromeDriverManager\n",
    "from sbi_scraping import get_own_stock_df\n",
    "from minkabu_scraping import append_dividend\n",
    "from tse_stock_list_downloader import append_market_and_industries\n",
    "\n",
    "import config\n",
    "\n",
    "import pandas as pd\n",
    "import gspread\n",
    "import json\n",
    "from oauth2client.service_account import ServiceAccountCredentials"
   ]
  },
  {
   "cell_type": "code",
   "execution_count": 2,
   "id": "2630bc3e",
   "metadata": {
    "tags": []
   },
   "outputs": [
    {
     "name": "stderr",
     "output_type": "stream",
     "text": [
      "[WDM] - Downloading: 100%|████████████████████████████████████████████████████████████████████████████████████████████████████████████████████████| 8.81M/8.81M [00:00<00:00, 25.3MB/s]\n"
     ]
    }
   ],
   "source": [
    "driver = webdriver.Chrome(\n",
    "    service=ChromeService(ChromeDriverManager().install())\n",
    ")  # Mac用の記述\n",
    "driver.implicitly_wait(10)"
   ]
  },
  {
   "cell_type": "code",
   "execution_count": 3,
   "id": "ce0a3ee1",
   "metadata": {
    "tags": []
   },
   "outputs": [],
   "source": [
    "# 証券会社のwebサイトから保有株情報を抽出する\n",
    "df_own_stock = get_own_stock_df(driver)"
   ]
  },
  {
   "cell_type": "code",
   "execution_count": 4,
   "id": "2844117d",
   "metadata": {
    "tags": []
   },
   "outputs": [
    {
     "name": "stdout",
     "output_type": "stream",
     "text": [
      "1434 start\n",
      "1434 finish\n",
      "1518 start\n",
      "1518 finish\n",
      "1775 start\n",
      "1775 finish\n",
      "1820 start\n",
      "1820 finish\n",
      "1835 start\n",
      "1835 finish\n",
      "1925 start\n",
      "1925 finish\n",
      "1928 start\n",
      "1928 finish\n",
      "1951 start\n",
      "1951 finish\n",
      "2124 start\n",
      "2124 finish\n",
      "2127 start\n",
      "2127 finish\n",
      "2169 start\n",
      "2169 finish\n",
      "2317 start\n",
      "2317 finish\n",
      "2353 start\n",
      "2353 finish\n",
      "2395 start\n",
      "2395 finish\n",
      "2914 start\n",
      "2914 finish\n",
      "2927 start\n",
      "2927 finish\n",
      "3003 start\n",
      "3003 finish\n",
      "3101 start\n",
      "3101 finish\n",
      "3156 start\n",
      "3156 finish\n",
      "3179 start\n",
      "3179 finish\n",
      "3186 start\n",
      "3186 finish\n",
      "3248 start\n",
      "3248 finish\n",
      "3409 start\n",
      "3409 finish\n",
      "3632 start\n",
      "3632 finish\n",
      "3817 start\n",
      "3817 finish\n",
      "3847 start\n",
      "3847 finish\n",
      "4008 start\n",
      "4008 finish\n",
      "4042 start\n",
      "4042 finish\n",
      "4044 start\n",
      "4044 finish\n",
      "4064 start\n",
      "4064 finish\n",
      "4182 start\n",
      "4182 finish\n",
      "4361 start\n",
      "4361 finish\n",
      "4385 start\n",
      "4385 skipped\n",
      "4452 start\n",
      "4452 finish\n",
      "4502 start\n",
      "4502 finish\n",
      "4641 start\n",
      "4641 finish\n",
      "5101 start\n",
      "5101 finish\n",
      "5184 start\n",
      "5184 finish\n",
      "5201 start\n",
      "5201 finish\n",
      "5406 start\n",
      "5406 skipped\n",
      "5713 start\n",
      "5713 finish\n",
      "5803 start\n",
      "5803 finish\n",
      "6073 start\n",
      "6073 finish\n",
      "6087 start\n",
      "6087 finish\n",
      "6113 start\n",
      "6113 finish\n",
      "6167 start\n",
      "6167 finish\n",
      "6291 start\n",
      "6291 finish\n",
      "6643 start\n",
      "6643 finish\n",
      "6856 start\n",
      "6856 finish\n",
      "6920 start\n",
      "6920 finish\n",
      "7186 start\n",
      "7186 finish\n",
      "7224 start\n",
      "7224 finish\n",
      "7226 start\n",
      "7226 finish\n",
      "7267 start\n",
      "7267 finish\n",
      "7272 start\n",
      "7272 finish\n",
      "7512 start\n",
      "7512 finish\n",
      "7844 start\n",
      "7844 finish\n",
      "7874 start\n",
      "7874 finish\n",
      "7995 start\n",
      "7995 finish\n",
      "8001 start\n",
      "8001 finish\n",
      "8584 start\n",
      "8584 finish\n",
      "8591 start\n",
      "8591 finish\n",
      "8593 start\n",
      "8593 finish\n",
      "8766 start\n",
      "8766 finish\n",
      "8795 start\n",
      "8795 finish\n",
      "9069 start\n",
      "9069 finish\n",
      "9142 start\n",
      "9142 finish\n",
      "9303 start\n",
      "9303 finish\n",
      "9432 start\n",
      "9432 finish\n",
      "9433 start\n",
      "9433 finish\n",
      "9436 start\n",
      "9436 finish\n",
      "9600 start\n",
      "9600 finish\n",
      "9603 start\n",
      "9603 skipped\n",
      "9698 start\n",
      "9698 finish\n",
      "9769 start\n",
      "9769 finish\n",
      "9831 start\n",
      "9831 skipped\n",
      "9880 start\n",
      "9880 finish\n",
      "9986 start\n",
      "9986 finish\n"
     ]
    }
   ],
   "source": [
    "# 配当金額を抽出する\n",
    "df_own_stock = append_dividend(driver, df_own_stock)"
   ]
  },
  {
   "cell_type": "code",
   "execution_count": 3,
   "id": "e77b8073-ec99-446f-9b82-ddc6cdb172eb",
   "metadata": {
    "tags": []
   },
   "outputs": [],
   "source": [
    "# これ以降の動作だけテストしたい時は下記コードを利用する\n",
    "df_own_stock = pd.read_csv(\"test_dataframe.csv\")\n",
    "df_own_stock[\"コード\"] = df_own_stock[\"コード\"].astype(object)\n",
    "df_own_stock[\"市場\"] = df_own_stock[\"市場\"].astype(object)\n",
    "df_own_stock[\"業種\"] = df_own_stock[\"業種\"].astype(object)"
   ]
  },
  {
   "cell_type": "code",
   "execution_count": 4,
   "id": "e583416c-7763-49a0-a918-2953d0a209c0",
   "metadata": {},
   "outputs": [],
   "source": [
    "df_own_stock = append_market_and_industries(df_own_stock)"
   ]
  },
  {
   "cell_type": "code",
   "execution_count": 5,
   "id": "d9144bf9-1ce5-44bb-88a5-77e716720306",
   "metadata": {
    "tags": []
   },
   "outputs": [],
   "source": [
    "# 2つのAPIを記述しないとリフレッシュトークンを3600秒毎に発行し続けなければならない\n",
    "scope = [\n",
    "    \"https://spreadsheets.google.com/feeds\",\n",
    "    \"https://www.googleapis.com/auth/drive\",\n",
    "]\n",
    "\n",
    "# 認証情報設定\n",
    "credentials = ServiceAccountCredentials.from_json_keyfile_name(\n",
    "    \"keys/credentials.json\", scope\n",
    ")"
   ]
  },
  {
   "cell_type": "code",
   "execution_count": 6,
   "id": "ba7f678c-65e6-4385-bc22-23f9fe4fb71a",
   "metadata": {
    "tags": []
   },
   "outputs": [],
   "source": [
    "# OAuth2の資格情報を使用してGoogle APIにログイン\n",
    "gc = gspread.authorize(credentials)"
   ]
  },
  {
   "cell_type": "code",
   "execution_count": 11,
   "id": "dda577a6-8e20-4154-9df5-c68dd10d9696",
   "metadata": {
    "tags": []
   },
   "outputs": [],
   "source": [
    "# 共有設定したスプレッドシートを開く\n",
    "spreadsheet = gc.open_by_key(config.SPREADSHEET_KEY)"
   ]
  },
  {
   "cell_type": "code",
   "execution_count": 12,
   "id": "bda40b1c-3a89-4a5f-b6ff-bb3abfed5605",
   "metadata": {
    "tags": []
   },
   "outputs": [],
   "source": [
    "# シート名を指定してシートを開く\n",
    "worksheet = spreadsheet.worksheet(\"②高配当株ポートフォリオ\")"
   ]
  },
  {
   "cell_type": "code",
   "execution_count": null,
   "id": "e17e8555-61b2-4968-849f-c03761647638",
   "metadata": {},
   "outputs": [],
   "source": []
  },
  {
   "cell_type": "code",
   "execution_count": null,
   "id": "d462ec2b-0c6e-4a91-b6ad-638956b8215f",
   "metadata": {},
   "outputs": [],
   "source": []
  }
 ],
 "metadata": {
  "kernelspec": {
   "display_name": "Python 3 (ipykernel)",
   "language": "python",
   "name": "python3"
  },
  "language_info": {
   "codemirror_mode": {
    "name": "ipython",
    "version": 3
   },
   "file_extension": ".py",
   "mimetype": "text/x-python",
   "name": "python",
   "nbconvert_exporter": "python",
   "pygments_lexer": "ipython3",
   "version": "3.9.0"
  }
 },
 "nbformat": 4,
 "nbformat_minor": 5
}
