{
 "cells": [
  {
   "cell_type": "code",
   "execution_count": 1,
   "id": "f46c984e-41e2-455b-a56e-aabb7da54941",
   "metadata": {
    "tags": []
   },
   "outputs": [],
   "source": [
    "import time\n",
    "\n",
    "import pandas as pd\n",
    "from bs4 import BeautifulSoup\n",
    "from selenium import webdriver\n",
    "from selenium.webdriver.common.by import By\n",
    "\n",
    "import config\n"
   ]
  },
  {
   "cell_type": "code",
   "execution_count": 2,
   "id": "48975372-bbc7-4e10-a106-be4b45400b95",
   "metadata": {},
   "outputs": [],
   "source": [
    "driver = webdriver.Chrome()  # Mac用の記述\n",
    "driver.implicitly_wait(10)\n"
   ]
  },
  {
   "cell_type": "code",
   "execution_count": 3,
   "id": "d2e0f66a-fa95-4f1f-b381-6b9e9cf3afac",
   "metadata": {},
   "outputs": [],
   "source": [
    "# SBIネオモバイルのログインページへアクセス\n",
    "url_login = \"https://trade.sbineomobile.co.jp/login\"\n",
    "driver.get(url_login)\n",
    "time.sleep(3)  # ページに遷移する前に次の処理が実行されないようにするため\n"
   ]
  },
  {
   "cell_type": "code",
   "execution_count": 4,
   "id": "477631e1-6576-438f-ac9e-f812d6a3cce7",
   "metadata": {
    "tags": []
   },
   "outputs": [],
   "source": [
    "# ログインフォームの要素を取得する\n",
    "username = driver.find_element(By.NAME, \"username\")\n",
    "password = driver.find_element(By.NAME, \"password\")\n",
    "login_btn = driver.find_element(By.ID, \"neo-login-btn\")\n",
    "\n",
    "# 念のためテキストボックスの中身を空にする\n",
    "username.clear()\n",
    "password.clear()\n",
    "\n",
    "# テキストボックスに値を入力する\n",
    "username.send_keys(config.SBI_USERNAME)\n",
    "password.send_keys(config.SBI_PASSWORD)\n",
    "\n",
    "# ログインボタンをクリックする\n",
    "login_btn.click()\n",
    "time.sleep(1)\n"
   ]
  },
  {
   "cell_type": "code",
   "execution_count": 5,
   "id": "002de18a-e6ff-4cf3-9c3b-298bb5c75396",
   "metadata": {},
   "outputs": [],
   "source": [
    "# SBIネオモバイルのポートフォリオ\n",
    "url_portfolio = \"https://trade.sbineomobile.co.jp/account/portfolio\"\n",
    "driver.get(url_portfolio)\n",
    "time.sleep(3)\n"
   ]
  },
  {
   "cell_type": "code",
   "execution_count": 6,
   "id": "332a3dd1-f0de-42b6-b2bc-00ce74f5bc1e",
   "metadata": {
    "tags": []
   },
   "outputs": [],
   "source": [
    "# 銘柄一覧の要素を取得する\n",
    "div_element = driver.find_element(By.CLASS_NAME, \"sp-main\")\n",
    "\n",
    "# 無限スクロールが終わるまでスクロールする\n",
    "last_height = driver.execute_script(\"return arguments[0].scrollHeight\", div_element)\n",
    "while True:\n",
    "    driver.execute_script(\n",
    "        \"arguments[0].scrollTo(0, arguments[0].scrollHeight);\", div_element\n",
    "    )\n",
    "    time.sleep(2)\n",
    "    new_height = driver.execute_script(\"return arguments[0].scrollHeight\", div_element)\n",
    "    if new_height == last_height:\n",
    "        break\n",
    "    last_height = new_height\n"
   ]
  },
  {
   "cell_type": "code",
   "execution_count": 7,
   "id": "ea4e966e-f8b1-45b4-b452-6da86c4a28d1",
   "metadata": {
    "tags": []
   },
   "outputs": [],
   "source": [
    "# ページのhtmlを取得してパースする\n",
    "html = driver.page_source.encode(\"utf-8\")\n",
    "parsed_html = BeautifulSoup(html, \"html.parser\")\n"
   ]
  },
  {
   "cell_type": "code",
   "execution_count": 8,
   "id": "790d4f9e-dd71-421c-8374-38ff505daef3",
   "metadata": {},
   "outputs": [],
   "source": [
    "# 保有銘柄の証券コード、銘柄名をそれぞれSeriesにする\n",
    "\n",
    "# 証券コード\n",
    "stock_code_list = []\n",
    "tickers = parsed_html.find_all(class_=\"ticker\")\n",
    "\n",
    "for ticker in tickers:\n",
    "    stock_code = ticker.get_text().strip()  # 抽出したテキストに空白がある場合は除去する\n",
    "    stock_code_list.append(stock_code)\n",
    "\n",
    "ser_stock_code = pd.Series(stock_code_list)\n",
    "\n",
    "# 銘柄名\n",
    "stock_name_list = []\n",
    "names = parsed_html.find_all(class_=\"name\")\n",
    "\n",
    "for name in names:\n",
    "    stock_name = name.get_text().strip()  # 抽出したテキストに空白がある場合は除去する\n",
    "    stock_name_list.append(stock_name)\n",
    "\n",
    "ser_stock_name = pd.Series(stock_name_list)\n"
   ]
  },
  {
   "cell_type": "code",
   "execution_count": 9,
   "id": "402ed52c-01c9-4994-a74d-f04832588a0c",
   "metadata": {},
   "outputs": [],
   "source": [
    "# 全銘柄の現在値〜預り区分をデータフレームのリストにする\n",
    "table = parsed_html.find_all(\"table\")\n",
    "list_df_tables = pd.read_html(str(table))\n",
    "\n",
    "# リストのデータフレームを一つに結合する\n",
    "df_all_stock = pd.DataFrame()\n",
    "for df_table in list_df_tables:\n",
    "    row = df_table.T[1:2]\n",
    "    df_all_stock = pd.concat([df_all_stock, row], axis=0)\n",
    "\n",
    "# インデックスを振り直す\n",
    "df_all_stock = df_all_stock.reset_index(drop=True)\n"
   ]
  },
  {
   "cell_type": "code",
   "execution_count": 10,
   "id": "b39a8e5b-ca63-4cca-ade3-701a5cef914e",
   "metadata": {
    "tags": []
   },
   "outputs": [],
   "source": [
    "# 証券コード、銘柄名をデータフレームに結合する\n",
    "df_all_stock = pd.concat([ser_stock_code, ser_stock_name, df_all_stock], axis=1)\n",
    "\n",
    "# カラム名を付け直す\n",
    "df_all_stock.columns = [\"コード\", \"名称\", \"現在値/前日比\", \"保有数量\", \"（うち売却注文中）\", \"評価損益率\", \"平均取得単価\", \"預り区分\"]"
   ]
  },
  {
   "cell_type": "code",
   "execution_count": 17,
   "id": "e2393f23",
   "metadata": {},
   "outputs": [],
   "source": [
    "# スプレッドシートのスキーマに合わせたデータフレームを作成する\n",
    "columns = [\"コード\", \"市場\", \"名称\", \"業種\", \"保有株式数\", \"購入単価\", \"現在単価\"]\n",
    "dtypes = {\n",
    "    \"コード\": \"object\",\n",
    "    \"市場\": \"object\",\n",
    "    \"名称\": \"object\",\n",
    "    \"業種\": \"object\",\n",
    "    \"保有株式数\": \"int64\",\n",
    "    \"購入単価\": \"int64\",\n",
    "    \"現在単価\": \"int64\",\n",
    "}\n",
    "df_for_export = pd.DataFrame(columns=columns).astype(dtypes)\n"
   ]
  },
  {
   "cell_type": "code",
   "execution_count": 21,
   "id": "0822fb75",
   "metadata": {},
   "outputs": [
    {
     "data": {
      "text/plain": [
       "コード      object\n",
       "市場       object\n",
       "名称       object\n",
       "業種       object\n",
       "保有株式数     int64\n",
       "購入単価      int64\n",
       "現在単価      int64\n",
       "dtype: object"
      ]
     },
     "execution_count": 21,
     "metadata": {},
     "output_type": "execute_result"
    }
   ],
   "source": []
  },
  {
   "cell_type": "code",
   "execution_count": null,
   "id": "b2da34a7",
   "metadata": {},
   "outputs": [],
   "source": []
  }
 ],
 "metadata": {
  "kernelspec": {
   "display_name": "Python 3 (ipykernel)",
   "language": "python",
   "name": "python3"
  },
  "language_info": {
   "codemirror_mode": {
    "name": "ipython",
    "version": 3
   },
   "file_extension": ".py",
   "mimetype": "text/x-python",
   "name": "python",
   "nbconvert_exporter": "python",
   "pygments_lexer": "ipython3",
   "version": "3.9.0"
  }
 },
 "nbformat": 4,
 "nbformat_minor": 5
}
