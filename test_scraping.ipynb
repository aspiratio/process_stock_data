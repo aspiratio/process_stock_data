{
 "cells": [
  {
   "cell_type": "code",
   "execution_count": 1,
   "id": "f46c984e-41e2-455b-a56e-aabb7da54941",
   "metadata": {
    "tags": []
   },
   "outputs": [],
   "source": [
    "from selenium import webdriver\n",
    "from selenium.webdriver.common.by import By\n",
    "from bs4 import BeautifulSoup\n",
    "import time\n",
    "import pandas as pd\n",
    "import config"
   ]
  },
  {
   "cell_type": "code",
   "execution_count": 2,
   "id": "48975372-bbc7-4e10-a106-be4b45400b95",
   "metadata": {},
   "outputs": [],
   "source": [
    "driver = webdriver.Chrome()  # Mac用の記述\n",
    "driver.implicitly_wait(10)"
   ]
  },
  {
   "cell_type": "code",
   "execution_count": 3,
   "id": "d2e0f66a-fa95-4f1f-b381-6b9e9cf3afac",
   "metadata": {},
   "outputs": [],
   "source": [
    "# SBIネオモバイルのログインページへアクセス\n",
    "url_login = \"https://trade.sbineomobile.co.jp/login\"\n",
    "driver.get(url_login)\n",
    "time.sleep(3)  # ページに遷移する前に次の処理が実行されないようにするため"
   ]
  },
  {
   "cell_type": "code",
   "execution_count": 4,
   "id": "477631e1-6576-438f-ac9e-f812d6a3cce7",
   "metadata": {
    "tags": []
   },
   "outputs": [],
   "source": [
    "# ログインフォームの要素を取得する\n",
    "username = driver.find_element(By.NAME, \"username\")\n",
    "password = driver.find_element(By.NAME, \"password\")\n",
    "login_btn = driver.find_element(By.ID, \"neo-login-btn\")\n",
    "\n",
    "# 念のためテキストボックスの中身を空にする\n",
    "username.clear()\n",
    "password.clear()\n",
    "\n",
    "# テキストボックスに値を入力する\n",
    "username.send_keys(config.SBI_USERNAME)\n",
    "password.send_keys(config.SBI_PASSWORD)\n",
    "\n",
    "# ログインボタンをクリックする\n",
    "login_btn.click()\n",
    "time.sleep(1)"
   ]
  },
  {
   "cell_type": "code",
   "execution_count": 5,
   "id": "002de18a-e6ff-4cf3-9c3b-298bb5c75396",
   "metadata": {},
   "outputs": [],
   "source": [
    "# SBIネオモバイルのポートフォリオ\n",
    "url_portfolio = \"https://trade.sbineomobile.co.jp/account/portfolio\"\n",
    "driver.get(url_portfolio)\n",
    "time.sleep(3)"
   ]
  },
  {
   "cell_type": "code",
   "execution_count": 6,
   "id": "332a3dd1-f0de-42b6-b2bc-00ce74f5bc1e",
   "metadata": {
    "tags": []
   },
   "outputs": [],
   "source": [
    "# 銘柄一覧の要素を取得する\n",
    "div_element = driver.find_element(By.CLASS_NAME, \"sp-main\")\n",
    "\n",
    "# 無限スクロールが終わるまでスクロールする\n",
    "last_height = driver.execute_script(\"return arguments[0].scrollHeight\", div_element)\n",
    "while True:\n",
    "    driver.execute_script(\n",
    "        \"arguments[0].scrollTo(0, arguments[0].scrollHeight);\", div_element\n",
    "    )\n",
    "    time.sleep(2)\n",
    "    new_height = driver.execute_script(\"return arguments[0].scrollHeight\", div_element)\n",
    "    if new_height == last_height:\n",
    "        break\n",
    "    last_height = new_height"
   ]
  },
  {
   "cell_type": "code",
   "execution_count": 7,
   "id": "ea4e966e-f8b1-45b4-b452-6da86c4a28d1",
   "metadata": {
    "tags": []
   },
   "outputs": [],
   "source": [
    "# ページのhtmlを取得してパースする\n",
    "html = driver.page_source.encode(\"utf-8\")\n",
    "parsed_html = BeautifulSoup(html, \"html.parser\")\n",
    "\n",
    "# 全銘柄の現在値〜預り区分をデータフレームのリストにする\n",
    "table = parsed_html.findAll(\"table\")\n",
    "list_df_tables = pd.read_html(str(table))"
   ]
  },
  {
   "cell_type": "code",
   "execution_count": 11,
   "id": "402ed52c-01c9-4994-a74d-f04832588a0c",
   "metadata": {},
   "outputs": [],
   "source": [
    "# リストのデータフレームを一つにまとめる\n",
    "df_all_stock = pd.DataFrame()\n",
    "for x in list_df_tables:\n",
    "    row = x.T[1:2]\n",
    "    df_all_stock = pd.concat([df_all_stock, row], axis=0)"
   ]
  },
  {
   "cell_type": "code",
   "execution_count": 12,
   "id": "790d4f9e-dd71-421c-8374-38ff505daef3",
   "metadata": {},
   "outputs": [
    {
     "data": {
      "text/html": [
       "<div>\n",
       "<style scoped>\n",
       "    .dataframe tbody tr th:only-of-type {\n",
       "        vertical-align: middle;\n",
       "    }\n",
       "\n",
       "    .dataframe tbody tr th {\n",
       "        vertical-align: top;\n",
       "    }\n",
       "\n",
       "    .dataframe thead th {\n",
       "        text-align: right;\n",
       "    }\n",
       "</style>\n",
       "<table border=\"1\" class=\"dataframe\">\n",
       "  <thead>\n",
       "    <tr style=\"text-align: right;\">\n",
       "      <th></th>\n",
       "      <th>0</th>\n",
       "      <th>1</th>\n",
       "      <th>2</th>\n",
       "      <th>3</th>\n",
       "      <th>4</th>\n",
       "      <th>5</th>\n",
       "    </tr>\n",
       "  </thead>\n",
       "  <tbody>\n",
       "    <tr>\n",
       "      <th>1</th>\n",
       "      <td>493円 /  0 0%</td>\n",
       "      <td>38株</td>\n",
       "      <td>0株</td>\n",
       "      <td>17.94%</td>\n",
       "      <td>418  円</td>\n",
       "      <td>特定</td>\n",
       "    </tr>\n",
       "    <tr>\n",
       "      <th>1</th>\n",
       "      <td>3,215円 /  0 0%</td>\n",
       "      <td>7株</td>\n",
       "      <td>0株</td>\n",
       "      <td>0%</td>\n",
       "      <td>3,215  円</td>\n",
       "      <td>特定</td>\n",
       "    </tr>\n",
       "    <tr>\n",
       "      <th>1</th>\n",
       "      <td>3,770円 /  0 0%</td>\n",
       "      <td>3株</td>\n",
       "      <td>0株</td>\n",
       "      <td>43.67%</td>\n",
       "      <td>2,624  円</td>\n",
       "      <td>特定</td>\n",
       "    </tr>\n",
       "    <tr>\n",
       "      <th>1</th>\n",
       "      <td>3,460円 /  0 0%</td>\n",
       "      <td>29株</td>\n",
       "      <td>0株</td>\n",
       "      <td>-4.84%</td>\n",
       "      <td>3,636  円</td>\n",
       "      <td>特定</td>\n",
       "    </tr>\n",
       "    <tr>\n",
       "      <th>1</th>\n",
       "      <td>2,650円 /  0 0%</td>\n",
       "      <td>71株</td>\n",
       "      <td>0株</td>\n",
       "      <td>18.62%</td>\n",
       "      <td>2,234  円</td>\n",
       "      <td>特定</td>\n",
       "    </tr>\n",
       "    <tr>\n",
       "      <th>...</th>\n",
       "      <td>...</td>\n",
       "      <td>...</td>\n",
       "      <td>...</td>\n",
       "      <td>...</td>\n",
       "      <td>...</td>\n",
       "      <td>...</td>\n",
       "    </tr>\n",
       "    <tr>\n",
       "      <th>1</th>\n",
       "      <td>2,013円 /  0 0%</td>\n",
       "      <td>7株</td>\n",
       "      <td>0株</td>\n",
       "      <td>-0.4%</td>\n",
       "      <td>2,021  円</td>\n",
       "      <td>特定</td>\n",
       "    </tr>\n",
       "    <tr>\n",
       "      <th>1</th>\n",
       "      <td>884円 /  0 0%</td>\n",
       "      <td>88株</td>\n",
       "      <td>0株</td>\n",
       "      <td>3.15%</td>\n",
       "      <td>857  円</td>\n",
       "      <td>特定</td>\n",
       "    </tr>\n",
       "    <tr>\n",
       "      <th>1</th>\n",
       "      <td>469円 /  0 0%</td>\n",
       "      <td>100株</td>\n",
       "      <td>0株</td>\n",
       "      <td>21.19%</td>\n",
       "      <td>387  円</td>\n",
       "      <td>特定</td>\n",
       "    </tr>\n",
       "    <tr>\n",
       "      <th>1</th>\n",
       "      <td>1,352円 /  0 0%</td>\n",
       "      <td>53株</td>\n",
       "      <td>0株</td>\n",
       "      <td>1.81%</td>\n",
       "      <td>1,328  円</td>\n",
       "      <td>特定</td>\n",
       "    </tr>\n",
       "    <tr>\n",
       "      <th>1</th>\n",
       "      <td>2,241円 /  0 0%</td>\n",
       "      <td>36株</td>\n",
       "      <td>0株</td>\n",
       "      <td>28.06%</td>\n",
       "      <td>1,750  円</td>\n",
       "      <td>特定</td>\n",
       "    </tr>\n",
       "  </tbody>\n",
       "</table>\n",
       "<p>95 rows × 6 columns</p>\n",
       "</div>"
      ],
      "text/plain": [
       "                 0     1   2       3         4   5\n",
       "1     493円 /  0 0%   38株  0株  17.94%    418  円  特定\n",
       "1   3,215円 /  0 0%    7株  0株      0%  3,215  円  特定\n",
       "1   3,770円 /  0 0%    3株  0株  43.67%  2,624  円  特定\n",
       "1   3,460円 /  0 0%   29株  0株  -4.84%  3,636  円  特定\n",
       "1   2,650円 /  0 0%   71株  0株  18.62%  2,234  円  特定\n",
       "..             ...   ...  ..     ...       ...  ..\n",
       "1   2,013円 /  0 0%    7株  0株   -0.4%  2,021  円  特定\n",
       "1     884円 /  0 0%   88株  0株   3.15%    857  円  特定\n",
       "1     469円 /  0 0%  100株  0株  21.19%    387  円  特定\n",
       "1   1,352円 /  0 0%   53株  0株   1.81%  1,328  円  特定\n",
       "1   2,241円 /  0 0%   36株  0株  28.06%  1,750  円  特定\n",
       "\n",
       "[95 rows x 6 columns]"
      ]
     },
     "execution_count": 12,
     "metadata": {},
     "output_type": "execute_result"
    }
   ],
   "source": []
  },
  {
   "cell_type": "code",
   "execution_count": null,
   "id": "b39a8e5b-ca63-4cca-ade3-701a5cef914e",
   "metadata": {
    "tags": []
   },
   "outputs": [],
   "source": []
  },
  {
   "cell_type": "code",
   "execution_count": null,
   "id": "8884945d-2cee-481d-874e-5ba24ded77e9",
   "metadata": {},
   "outputs": [],
   "source": []
  }
 ],
 "metadata": {
  "kernelspec": {
   "display_name": "Python 3 (ipykernel)",
   "language": "python",
   "name": "python3"
  },
  "language_info": {
   "codemirror_mode": {
    "name": "ipython",
    "version": 3
   },
   "file_extension": ".py",
   "mimetype": "text/x-python",
   "name": "python",
   "nbconvert_exporter": "python",
   "pygments_lexer": "ipython3",
   "version": "3.9.0"
  }
 },
 "nbformat": 4,
 "nbformat_minor": 5
}
