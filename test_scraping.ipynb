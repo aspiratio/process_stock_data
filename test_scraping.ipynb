{
 "cells": [
  {
   "cell_type": "code",
   "execution_count": 2,
   "id": "f46c984e-41e2-455b-a56e-aabb7da54941",
   "metadata": {
    "tags": []
   },
   "outputs": [],
   "source": [
    "from selenium import webdriver\n",
    "from selenium.webdriver.common.by import By\n",
    "import time\n",
    "import pandas as pd\n",
    "import config"
   ]
  },
  {
   "cell_type": "code",
   "execution_count": 3,
   "id": "48975372-bbc7-4e10-a106-be4b45400b95",
   "metadata": {},
   "outputs": [],
   "source": [
    "browser = webdriver.Chrome() # Mac用の記述\n",
    "browser.implicitly_wait(3)"
   ]
  },
  {
   "cell_type": "code",
   "execution_count": 4,
   "id": "d2e0f66a-fa95-4f1f-b381-6b9e9cf3afac",
   "metadata": {},
   "outputs": [],
   "source": [
    "# SBIネオモバイルのログインページへアクセス\n",
    "url_login = \"https://trade.sbineomobile.co.jp/login\"\n",
    "browser.get(url_login)\n",
    "time.sleep(3) # ページに遷移する前に次の処理が実行されないようにするため"
   ]
  },
  {
   "cell_type": "code",
   "execution_count": 7,
   "id": "477631e1-6576-438f-ac9e-f812d6a3cce7",
   "metadata": {
    "tags": []
   },
   "outputs": [],
   "source": [
    "# ログインフォームの要素を取得する\n",
    "username = browser.find_element(By.NAME, \"username\")\n",
    "password = browser.find_element(By.NAME, \"password\")\n",
    "login_btn = browser.find_element(By.ID, \"neo-login-btn\")\n",
    "\n",
    "# 念のためテキストボックスの中身を空にする\n",
    "username.clear()\n",
    "password.clear()\n",
    "\n",
    "# テキストボックスに値を入力する\n",
    "username.send_keys(config.SBI_USERNAME)\n",
    "password.send_keys(config.SBI_PASSWORD)\n",
    "\n",
    "# ログインボタンをクリックする\n",
    "login_btn.click()\n",
    "time.sleep(1)"
   ]
  },
  {
   "cell_type": "code",
   "execution_count": 12,
   "id": "002de18a-e6ff-4cf3-9c3b-298bb5c75396",
   "metadata": {},
   "outputs": [],
   "source": [
    "# SBIネオモバイルのポートフォリオ\n",
    "url_portfolio = \"https://trade.sbineomobile.co.jp/account/portfolio\"\n",
    "browser.get(url_portfolio)\n",
    "time.sleep(3)"
   ]
  },
  {
   "cell_type": "code",
   "execution_count": 19,
   "id": "332a3dd1-f0de-42b6-b2bc-00ce74f5bc1e",
   "metadata": {
    "tags": []
   },
   "outputs": [],
   "source": [
    "# 銘柄一覧の要素を取得する\n",
    "div_element = browser.find_element(By.CLASS_NAME, \"sp-main\")\n",
    "\n",
    "# 無限スクロールが終わるまでスクロールする\n",
    "last_height = browser.execute_script(\"return arguments[0].scrollHeight\", div_element)\n",
    "while True:\n",
    "    browser.execute_script(\"arguments[0].scrollTo(0, arguments[0].scrollHeight);\", div_element)\n",
    "    time.sleep(2)\n",
    "    new_height = browser.execute_script(\"return arguments[0].scrollHeight\", div_element)\n",
    "    if new_height == last_height:\n",
    "        break\n",
    "    last_height = new_height"
   ]
  },
  {
   "cell_type": "code",
   "execution_count": null,
   "id": "ea4e966e-f8b1-45b4-b452-6da86c4a28d1",
   "metadata": {},
   "outputs": [],
   "source": []
  }
 ],
 "metadata": {
  "kernelspec": {
   "display_name": "Python 3 (ipykernel)",
   "language": "python",
   "name": "python3"
  },
  "language_info": {
   "codemirror_mode": {
    "name": "ipython",
    "version": 3
   },
   "file_extension": ".py",
   "mimetype": "text/x-python",
   "name": "python",
   "nbconvert_exporter": "python",
   "pygments_lexer": "ipython3",
   "version": "3.9.0"
  }
 },
 "nbformat": 4,
 "nbformat_minor": 5
}
