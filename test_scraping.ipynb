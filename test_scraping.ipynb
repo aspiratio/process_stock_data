{
 "cells": [
  {
   "cell_type": "code",
   "execution_count": 1,
   "id": "f46c984e-41e2-455b-a56e-aabb7da54941",
   "metadata": {
    "tags": []
   },
   "outputs": [],
   "source": [
    "import time\n",
    "\n",
    "import pandas as pd\n",
    "from bs4 import BeautifulSoup\n",
    "from selenium import webdriver\n",
    "from selenium.webdriver.common.by import By\n",
    "\n",
    "import config"
   ]
  },
  {
   "cell_type": "code",
   "execution_count": 2,
   "id": "48975372-bbc7-4e10-a106-be4b45400b95",
   "metadata": {},
   "outputs": [],
   "source": [
    "driver = webdriver.Chrome()  # Mac用の記述\n",
    "driver.implicitly_wait(10)"
   ]
  },
  {
   "cell_type": "code",
   "execution_count": 3,
   "id": "d2e0f66a-fa95-4f1f-b381-6b9e9cf3afac",
   "metadata": {},
   "outputs": [],
   "source": [
    "# SBIネオモバイルのログインページへアクセス\n",
    "url_login = \"https://trade.sbineomobile.co.jp/login\"\n",
    "driver.get(url_login)\n",
    "time.sleep(3)  # ページに遷移する前に次の処理が実行されないようにするため"
   ]
  },
  {
   "cell_type": "code",
   "execution_count": 4,
   "id": "477631e1-6576-438f-ac9e-f812d6a3cce7",
   "metadata": {
    "tags": []
   },
   "outputs": [],
   "source": [
    "# ログインフォームの要素を取得する\n",
    "username = driver.find_element(By.NAME, \"username\")\n",
    "password = driver.find_element(By.NAME, \"password\")\n",
    "login_btn = driver.find_element(By.ID, \"neo-login-btn\")\n",
    "\n",
    "# 念のためテキストボックスの中身を空にする\n",
    "username.clear()\n",
    "password.clear()\n",
    "\n",
    "# テキストボックスに値を入力する\n",
    "username.send_keys(config.SBI_USERNAME)\n",
    "password.send_keys(config.SBI_PASSWORD)\n",
    "\n",
    "# ログインボタンをクリックする\n",
    "login_btn.click()\n",
    "time.sleep(1)"
   ]
  },
  {
   "cell_type": "code",
   "execution_count": 5,
   "id": "002de18a-e6ff-4cf3-9c3b-298bb5c75396",
   "metadata": {},
   "outputs": [],
   "source": [
    "# SBIネオモバイルのポートフォリオ\n",
    "url_portfolio = \"https://trade.sbineomobile.co.jp/account/portfolio\"\n",
    "driver.get(url_portfolio)\n",
    "time.sleep(3)"
   ]
  },
  {
   "cell_type": "code",
   "execution_count": 6,
   "id": "332a3dd1-f0de-42b6-b2bc-00ce74f5bc1e",
   "metadata": {
    "tags": []
   },
   "outputs": [],
   "source": [
    "# 銘柄一覧の要素を取得する\n",
    "div_element = driver.find_element(By.CLASS_NAME, \"sp-main\")\n",
    "\n",
    "# 無限スクロールが終わるまでスクロールする\n",
    "last_height = driver.execute_script(\"return arguments[0].scrollHeight\", div_element)\n",
    "while True:\n",
    "    driver.execute_script(\n",
    "        \"arguments[0].scrollTo(0, arguments[0].scrollHeight);\", div_element\n",
    "    )\n",
    "    time.sleep(2)\n",
    "    new_height = driver.execute_script(\"return arguments[0].scrollHeight\", div_element)\n",
    "    if new_height == last_height:\n",
    "        break\n",
    "    last_height = new_height"
   ]
  },
  {
   "cell_type": "code",
   "execution_count": 7,
   "id": "ea4e966e-f8b1-45b4-b452-6da86c4a28d1",
   "metadata": {
    "tags": []
   },
   "outputs": [],
   "source": [
    "# ページのhtmlを取得してパースする\n",
    "html = driver.page_source.encode(\"utf-8\")\n",
    "parsed_html = BeautifulSoup(html, \"html.parser\")\n",
    "\n",
    "# 全銘柄の現在値〜預り区分をデータフレームのリストにする\n",
    "table = parsed_html.find_all(\"table\")\n",
    "list_df_tables = pd.read_html(str(table))"
   ]
  },
  {
   "cell_type": "code",
   "execution_count": 8,
   "id": "402ed52c-01c9-4994-a74d-f04832588a0c",
   "metadata": {},
   "outputs": [],
   "source": [
    "# リストのデータフレームを一つに結合する\n",
    "df_all_stock = pd.DataFrame()\n",
    "for x in list_df_tables:\n",
    "    row = x.T[1:2]\n",
    "    df_all_stock = pd.concat([df_all_stock, row], axis=0)\n",
    "\n",
    "# カラム名を付け直す\n",
    "df_all_stock.columns = [\"現在値/前日比\", \"保有数量\", \"（うち売却注文中）\", \"評価損益率\", \"平均取得単価\", \"預り区分\"]\n",
    "\n",
    "# インデックスを振り直す\n",
    "df_all_stock = df_all_stock.reset_index(drop=True)"
   ]
  },
  {
   "cell_type": "code",
   "execution_count": 11,
   "id": "790d4f9e-dd71-421c-8374-38ff505daef3",
   "metadata": {},
   "outputs": [
    {
     "name": "stdout",
     "output_type": "stream",
     "text": [
      "[<p class=\"ticker\">1434</p>, <p class=\"ticker\">1518</p>, <p class=\"ticker\">1775</p>, <p class=\"ticker\">1820</p>, <p class=\"ticker\">1835</p>, <p class=\"ticker\">1925</p>, <p class=\"ticker\">1928</p>, <p class=\"ticker\">1951</p>, <p class=\"ticker\">2124</p>, <p class=\"ticker\">2127</p>, <p class=\"ticker\">2169</p>, <p class=\"ticker\">2353</p>, <p class=\"ticker\">2790</p>, <p class=\"ticker\">2809</p>, <p class=\"ticker\">2914</p>, <p class=\"ticker\">2927</p>, <p class=\"ticker\">3003</p>, <p class=\"ticker\">3101</p>, <p class=\"ticker\">3156</p>, <p class=\"ticker\">3179</p>, <p class=\"ticker\">3186</p>, <p class=\"ticker\">3248</p>, <p class=\"ticker\">3409</p>, <p class=\"ticker\">3632</p>, <p class=\"ticker\">3817</p>, <p class=\"ticker\">3847</p>, <p class=\"ticker\">4008</p>, <p class=\"ticker\">4042</p>, <p class=\"ticker\">4044</p>, <p class=\"ticker\">4064</p>, <p class=\"ticker\">4182</p>, <p class=\"ticker\">4361</p>, <p class=\"ticker\">4385</p>, <p class=\"ticker\">4452</p>, <p class=\"ticker\">4502</p>, <p class=\"ticker\">4503</p>, <p class=\"ticker\">4641</p>, <p class=\"ticker\">5101</p>, <p class=\"ticker\">5108</p>, <p class=\"ticker\">5110</p>, <p class=\"ticker\">5184</p>, <p class=\"ticker\">5201</p>, <p class=\"ticker\">5406</p>, <p class=\"ticker\">5702</p>, <p class=\"ticker\">5713</p>, <p class=\"ticker\">5803</p>, <p class=\"ticker\">6073</p>, <p class=\"ticker\">6087</p>, <p class=\"ticker\">6113</p>, <p class=\"ticker\">6167</p>, <p class=\"ticker\">6201</p>, <p class=\"ticker\">6291</p>, <p class=\"ticker\">6326</p>, <p class=\"ticker\">6643</p>, <p class=\"ticker\">6856</p>, <p class=\"ticker\">6967</p>, <p class=\"ticker\">7012</p>, <p class=\"ticker\">7186</p>, <p class=\"ticker\">7211</p>, <p class=\"ticker\">7224</p>, <p class=\"ticker\">7226</p>, <p class=\"ticker\">7259</p>, <p class=\"ticker\">7267</p>, <p class=\"ticker\">7272</p>, <p class=\"ticker\">7512</p>, <p class=\"ticker\">7733</p>, <p class=\"ticker\">7735</p>, <p class=\"ticker\">7844</p>, <p class=\"ticker\">7846</p>, <p class=\"ticker\">7874</p>, <p class=\"ticker\">7974</p>, <p class=\"ticker\">7984</p>, <p class=\"ticker\">7995</p>, <p class=\"ticker\">8001</p>, <p class=\"ticker\">8058</p>, <p class=\"ticker\">8267</p>, <p class=\"ticker\">8584</p>, <p class=\"ticker\">8591</p>, <p class=\"ticker\">8593</p>, <p class=\"ticker\">8697</p>, <p class=\"ticker\">8766</p>, <p class=\"ticker\">8795</p>, <p class=\"ticker\">9069</p>, <p class=\"ticker\">9142</p>, <p class=\"ticker\">9303</p>, <p class=\"ticker\">9432</p>, <p class=\"ticker\">9433</p>, <p class=\"ticker\">9436</p>, <p class=\"ticker\">9551</p>, <p class=\"ticker\">9600</p>, <p class=\"ticker\">9603</p>, <p class=\"ticker\">9698</p>, <p class=\"ticker\">9831</p>, <p class=\"ticker\">9880</p>, <p class=\"ticker\">9986</p>]\n"
     ]
    }
   ],
   "source": [
    "# 証券コード、銘柄名を取得する\n",
    "stock_code_list = []\n",
    "ticker = parsed_html.find_all(class_=\"ticker\")\n",
    "\n",
    "# for x in ticker:\n",
    "print(ticker)"
   ]
  },
  {
   "cell_type": "code",
   "execution_count": null,
   "id": "b39a8e5b-ca63-4cca-ade3-701a5cef914e",
   "metadata": {
    "tags": []
   },
   "outputs": [],
   "source": []
  },
  {
   "cell_type": "code",
   "execution_count": null,
   "id": "8884945d-2cee-481d-874e-5ba24ded77e9",
   "metadata": {},
   "outputs": [],
   "source": []
  }
 ],
 "metadata": {
  "kernelspec": {
   "display_name": "Python 3 (ipykernel)",
   "language": "python",
   "name": "python3"
  },
  "language_info": {
   "codemirror_mode": {
    "name": "ipython",
    "version": 3
   },
   "file_extension": ".py",
   "mimetype": "text/x-python",
   "name": "python",
   "nbconvert_exporter": "python",
   "pygments_lexer": "ipython3",
   "version": "3.9.0"
  }
 },
 "nbformat": 4,
 "nbformat_minor": 5
}
